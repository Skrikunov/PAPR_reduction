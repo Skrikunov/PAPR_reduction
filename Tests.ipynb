{
 "cells": [
  {
   "cell_type": "code",
   "execution_count": 3,
   "metadata": {},
   "outputs": [
    {
     "name": "stdout",
     "output_type": "stream",
     "text": [
      "You are going to use LOCAL MACHINE\n",
      "You are going to use CUDA\n"
     ]
    }
   ],
   "source": [
    "# EXTERNAL LIBRARIES\n",
    "import numpy as np\n",
    "import matplotlib.pyplot as plt\n",
    "import torch\n",
    "import yaml\n",
    "from pathlib import Path\n",
    "import os\n",
    "import sys\n",
    "\n",
    "# MY SCRIPTS\n",
    "sys.path.append('functions/') # scripts folder\n",
    "%load_ext autoreload\n",
    "%autoreload 2 # Reload all modules (except those excluded by %aimport) every time before executing the Python code typed\n",
    "import plots\n",
    "import system as syst\n",
    "import qammod as qmd\n",
    "import papreduce as prd\n",
    "import ccdf as ccdf\n",
    "import file as f\n",
    "\n",
    "# Detect if we are in Google Colaboratory\n",
    "try:\n",
    "    import google.colab\n",
    "    IN_COLAB = True\n",
    "    print('You are going to use GOOGLE COLAB')\n",
    "except ImportError:\n",
    "    IN_COLAB = False\n",
    "    print('You are going to use LOCAL MACHINE')\n",
    "\n",
    "# Add path for scripts and files directory\n",
    "if IN_COLAB:\n",
    "    google.colab.drive.mount(\"/content/drive\")\n",
    "    AUX_DATA_ROOT = Path(\"/content/drive/My Drive/PAPR reduction/Code\")\n",
    "    assert AUX_DATA_ROOT.is_dir(), \"Have you forgot to 'Add a shortcut to Drive'?\"\n",
    "    sys.path.append(str(AUX_DATA_ROOT))\n",
    "else:\n",
    "    AUX_DATA_ROOT = ''\n",
    "    \n",
    "CFG_PATH = os.path.join(AUX_DATA_ROOT, 'config.yaml')\n",
    "      \n",
    "if torch.cuda.is_available():\n",
    "    device=torch.device('cuda')\n",
    "    print('You are going to use CUDA')\n",
    "else:\n",
    "    device=torch.device('cpu')\n",
    "    print('You are going to use CPU')"
   ]
  },
  {
   "cell_type": "code",
   "execution_count": 4,
   "metadata": {},
   "outputs": [
    {
     "name": "stdout",
     "output_type": "stream",
     "text": [
      "Config has been readed successfully\n",
      "The following constelletions have been loaded: ['QPSK', 'QAM16', 'QAM64', 'QAM256']\n"
     ]
    }
   ],
   "source": [
    "# OPEN CONFIGURATION FILE\n",
    "with open('config.yaml','r') as file:\n",
    "    cfg = yaml.load(file, Loader=yaml.FullLoader)\n",
    "    print('Config has been readed successfully')\n",
    "\n",
    "Fs = cfg['Fs']\n",
    "N_UE = cfg['N_UE']\n",
    "P_UE_max_min = cfg['P_UE_max_min']\n",
    "P_TX = cfg['P_TX']\n",
    "N_RB = cfg['N_RB']\n",
    "N_fft = cfg['N_fft']\n",
    "N_zero = cfg['N_zero']\n",
    "N_used = cfg['N_used']\n",
    "\n",
    "EVM_QPSK = cfg['EVM_QPSK']\n",
    "EVM_QAM16 = cfg['EVM_QAM16']\n",
    "EVM_QAM64 = cfg['EVM_QAM64']\n",
    "EVM_QAM256 = cfg['EVM_QAM256']\n",
    "# EVM_QAM1024 = cfg['EVM_QAM1024']\n",
    "\n",
    "M = cfg['M']\n",
    "N_SC_RB = cfg['N_SC_RB']\n",
    "\n",
    "# load complex and decimal modulation constellations\n",
    "constellations = qmd.load_constellations(config=cfg,device=device,info=True)\n",
    "\n",
    "# load Fourier matrix\n",
    "S_sc = prd.gen_fourier_matrix(config=cfg,device=device)\n",
    "\n",
    "# PAPR range for CCDF\n",
    "PAPR_RANGE = torch.arange(0,12.25,step=0.25)\n",
    "\n",
    "# zero shift to center spectrum\n",
    "ZERO_SHIFT = N_zero//2"
   ]
  },
  {
   "cell_type": "code",
   "execution_count": 5,
   "metadata": {},
   "outputs": [],
   "source": [
    "# ADDITIONAL IMPORTS\n",
    "from scipy.linalg import dft"
   ]
  },
  {
   "cell_type": "code",
   "execution_count": 17,
   "metadata": {},
   "outputs": [
    {
     "data": {
      "text/plain": [
       "tensor([[ True,  True,  True,  ...,  True,  True,  True],\n",
       "        [ True,  True,  True,  ...,  True,  True,  True],\n",
       "        [ True,  True,  True,  ...,  True,  True,  True],\n",
       "        ...,\n",
       "        [ True,  True,  True,  ..., False, False, False],\n",
       "        [ True,  True,  True,  ..., False, False, False],\n",
       "        [ True,  True,  True,  ..., False, False, False]])"
      ]
     },
     "execution_count": 17,
     "metadata": {},
     "output_type": "execute_result"
    }
   ],
   "source": [
    "np.set_printoptions(precision=6, suppress=False)\n",
    "F = dft(1024)\n",
    "\n",
    "torch.isclose(torch.tensor(F,dtype=torch.complex64),S_sc.cpu())"
   ]
  },
  {
   "cell_type": "code",
   "execution_count": 20,
   "metadata": {},
   "outputs": [
    {
     "data": {
      "text/plain": [
       "tensor(0.1592+0.0109j)"
      ]
     },
     "execution_count": 20,
     "metadata": {},
     "output_type": "execute_result"
    }
   ],
   "source": [
    "torch.sum(torch.tensor(F,dtype=torch.complex64)-S_sc.cpu().conj().T)"
   ]
  },
  {
   "cell_type": "code",
   "execution_count": null,
   "metadata": {},
   "outputs": [],
   "source": []
  }
 ],
 "metadata": {
  "kernelspec": {
   "display_name": "Python 3",
   "language": "python",
   "name": "python3"
  },
  "language_info": {
   "codemirror_mode": {
    "name": "ipython",
    "version": 3
   },
   "file_extension": ".py",
   "mimetype": "text/x-python",
   "name": "python",
   "nbconvert_exporter": "python",
   "pygments_lexer": "ipython3",
   "version": "3.8.5"
  }
 },
 "nbformat": 4,
 "nbformat_minor": 4
}
