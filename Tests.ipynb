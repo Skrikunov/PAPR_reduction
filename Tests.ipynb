{
 "cells": [
  {
   "cell_type": "code",
   "execution_count": 1,
   "metadata": {},
   "outputs": [],
   "source": [
    "import h5py\n",
    "import os.path\n",
    "\n",
    "def save_file(folder,name,data,xaxis,yaxis):\n",
    "    path = folder + '/' + name\n",
    "    if not os.path.exists(path):\n",
    "        with h5py.File(path, 'w') as f:\n",
    "            f.create_dataset('data', data = data)\n",
    "            f.create_dataset('X_'+xaxis, data = 0)\n",
    "            f.create_dataset('Y_'+yaxis, data = 0)\n",
    "            f.close()\n",
    "            print('The file has been saved')\n",
    "    else:\n",
    "        print('The file already exists')\n",
    "    return None\n",
    "\n",
    "def rewrite_file(folder,name,data,xaxis,yaxis):\n",
    "    path = folder + '/' + name\n",
    "    if os.path.exists(path):\n",
    "        with h5py.File(path, 'w') as f:\n",
    "            f.create_dataset('data', data = data)\n",
    "            f.create_dataset('X_'+xaxis, data = 0)\n",
    "            f.create_dataset('Y_'+yaxis, data = 0)\n",
    "            f.close()\n",
    "            print('The file has been rewrited')\n",
    "    else:\n",
    "        print('The file does not exist')\n",
    "    return None\n",
    "\n",
    "def read_file(folder,name):\n",
    "    path = folder + '/' + name\n",
    "    with h5py.File(path, 'r') as f:\n",
    "        data = f['data'][:]\n",
    "        print(f.keys())\n",
    "        f.close()\n",
    "    print('Data shape =',data.shape)\n",
    "    return data"
   ]
  },
  {
   "cell_type": "code",
   "execution_count": 43,
   "metadata": {},
   "outputs": [],
   "source": [
    "import numpy as np\n",
    "import torch"
   ]
  },
  {
   "cell_type": "code",
   "execution_count": 49,
   "metadata": {},
   "outputs": [],
   "source": [
    "A = torch.tensor(np.arange(10).reshape(2,5))"
   ]
  },
  {
   "cell_type": "code",
   "execution_count": 50,
   "metadata": {},
   "outputs": [
    {
     "data": {
      "text/plain": [
       "datetime.datetime(2022, 1, 7, 18, 51, 46, 253132)"
      ]
     },
     "execution_count": 50,
     "metadata": {},
     "output_type": "execute_result"
    }
   ],
   "source": [
    "import datetime\n",
    "\n",
    "datetime.datetime.now()"
   ]
  },
  {
   "cell_type": "code",
   "execution_count": 62,
   "metadata": {},
   "outputs": [],
   "source": [
    "path = 'Q'\n",
    "with h5py.File(path, 'w') as f:\n",
    "    f.create_dataset('data', data = A)\n",
    "    f.create_dataset('data1', data = A)"
   ]
  },
  {
   "cell_type": "code",
   "execution_count": 63,
   "metadata": {},
   "outputs": [
    {
     "data": {
      "text/plain": [
       "array([[0, 1, 2, 3, 4],\n",
       "       [5, 6, 7, 8, 9]])"
      ]
     },
     "execution_count": 63,
     "metadata": {},
     "output_type": "execute_result"
    }
   ],
   "source": [
    "with h5py.File(path, 'r') as f:\n",
    "    data = f['data1'][:]\n",
    "data"
   ]
  },
  {
   "cell_type": "code",
   "execution_count": null,
   "metadata": {},
   "outputs": [],
   "source": []
  },
  {
   "cell_type": "code",
   "execution_count": null,
   "metadata": {},
   "outputs": [],
   "source": []
  },
  {
   "cell_type": "code",
   "execution_count": 53,
   "metadata": {},
   "outputs": [
    {
     "data": {
      "text/plain": [
       "(<bound method Module.named_modules of Sequential(\n",
       "   (layer_0): function(opt_th=2)\n",
       "   (layer_1): function(opt_th=4)\n",
       "   (layer_2): function(opt_th=16)\n",
       " )>,\n",
       " 384)"
      ]
     },
     "execution_count": 53,
     "metadata": {},
     "output_type": "execute_result"
    }
   ],
   "source": [
    "import torch\n",
    "import torch.nn as nn\n",
    "\n",
    "class function(torch.nn.Module):\n",
    "    def __init__(self,th=None):\n",
    "        super(function, self).__init__()\n",
    "        self.th = th\n",
    "        \n",
    "    def forward(self, x):\n",
    "        return x * self.th\n",
    "\n",
    "    def extra_repr(self):\n",
    "        return 'opt_th={}'.format(self.th)\n",
    "    \n",
    "system = nn.Sequential()\n",
    "inp  = 2\n",
    "n = 3\n",
    "for i in range(0,n):\n",
    "    # find optimal threshold\n",
    "    th = system.forward(inp)\n",
    "    # add this layer into model\n",
    "    system.add_module('layer_'+str(i),function(th))\n",
    "    \n",
    "system.named_modules, system.forward(3)"
   ]
  },
  {
   "cell_type": "code",
   "execution_count": 38,
   "metadata": {},
   "outputs": [],
   "source": [
    "class Computer():\n",
    "    def __init__(self, computer, ram, ssd):\n",
    "        self.computer = computer\n",
    "        self.ram = ram\n",
    "        self.ssd = ssd\n",
    "\n",
    "# Если создать дочерний класс `Laptop`, то будет доступ \n",
    "# к свойству базового класса благодаря функции super().\n",
    "class Laptop(Computer):\n",
    "    def __init__(self, computer, ram, ssd, model):\n",
    "        super(Laptop).__init__()\n",
    "        self.model = model\n"
   ]
  },
  {
   "cell_type": "code",
   "execution_count": 39,
   "metadata": {},
   "outputs": [],
   "source": [
    "lap1 = Computer('lenovo',512,256)"
   ]
  },
  {
   "cell_type": "code",
   "execution_count": 40,
   "metadata": {},
   "outputs": [
    {
     "data": {
      "text/plain": [
       "'lenovo'"
      ]
     },
     "execution_count": 40,
     "metadata": {},
     "output_type": "execute_result"
    }
   ],
   "source": [
    "lap1.computer"
   ]
  },
  {
   "cell_type": "code",
   "execution_count": 48,
   "metadata": {},
   "outputs": [],
   "source": [
    "lap2 = Laptop('lenovo',512,256,'ssw')"
   ]
  },
  {
   "cell_type": "code",
   "execution_count": 49,
   "metadata": {},
   "outputs": [
    {
     "data": {
      "text/plain": [
       "'ssw'"
      ]
     },
     "execution_count": 49,
     "metadata": {},
     "output_type": "execute_result"
    }
   ],
   "source": [
    "lap2.model"
   ]
  },
  {
   "cell_type": "code",
   "execution_count": 50,
   "metadata": {},
   "outputs": [
    {
     "data": {
      "text/plain": [
       "<__main__.Laptop at 0x7f28aae9b730>"
      ]
     },
     "execution_count": 50,
     "metadata": {},
     "output_type": "execute_result"
    }
   ],
   "source": [
    "lap2.m"
   ]
  },
  {
   "cell_type": "code",
   "execution_count": null,
   "metadata": {},
   "outputs": [],
   "source": []
  }
 ],
 "metadata": {
  "kernelspec": {
   "display_name": "Python 3",
   "language": "python",
   "name": "python3"
  },
  "language_info": {
   "codemirror_mode": {
    "name": "ipython",
    "version": 3
   },
   "file_extension": ".py",
   "mimetype": "text/x-python",
   "name": "python",
   "nbconvert_exporter": "python",
   "pygments_lexer": "ipython3",
   "version": "3.8.5"
  }
 },
 "nbformat": 4,
 "nbformat_minor": 4
}
