{
 "cells": [
  {
   "cell_type": "markdown",
   "metadata": {},
   "source": [
    "# PAPR definition\n",
    "$PAPR = \\frac{\\max(|{x}[k]|^2)}{\\operatorname{E}(|x[k]|)^2}$"
   ]
  },
  {
   "cell_type": "markdown",
   "metadata": {},
   "source": [
    "# Selective Tone Reservation\n",
    "PPAR reduction task can be described by the equation: $$\\mathbf{Z} = \\mathbf{X - SA} \\text{, where}$$\n",
    "\n",
    "$\n",
    "\\DeclareMathOperator{\\Tr}{Tr}\n",
    "\\mathbf{Z} \\in \\mathbb{C}^{MxN_{FFT}} \\text{-signal after PAPR reduction}\\\\\n",
    "\\mathbf{X} \\in \\mathbb{C}^{MxN_{FFT}} \\text{-signal before PAPR reduction}\\\\\n",
    "\\mathbf{A} \\in \\mathbb{C}^{MxN_{SC}} \\text{-selected subcarriers amplitudes (frequency domain)} \\\\\n",
    "\\mathbf{S} \\in \\mathbb{C}^{N_{SC} \\times N_{FFT}} \\text{-DFT matrix of selected subcarriers}\\\\\n",
    "\\mathbf{Y} = peaks(\\mathbf{X}) \\in \\mathbb{C}^{MxN_{FFT}} \\text{-undesired signal peaks}\\\\\n",
    "\\text{It can be represented as MMSE minimization problem:}\\\\\n",
    "\\mathbf{A} = \\arg \\min{||\\mathbf{Y-SA}||}_F^2\\\\\n",
    "\\text{Solution:}\\\\\n",
    "{||\\mathbf{Y-SA}||}_F^2 = \n",
    "\\Tr{[(\\mathbf{Y-SA})^H(\\mathbf{Y-SA})]} = \n",
    "\\Tr{[(\\mathbf{Y^H-A^H S^H})(\\mathbf{Y-SA})]} = \n",
    "\\Tr{(\\mathbf{Y^H Y - Y^H SA - A^H S^H Y + A^H S^H SA})} = \\\\\n",
    "= \\Tr{[\\mathbf{Y^H Y}]} - \\Tr{[\\mathbf{Y^H SA}]} - \\Tr{[\\mathbf{A^H S^H Y}]} + \\Tr{[\\mathbf{A^H S^H SA}]} = \n",
    " \\Tr{[\\mathbf{Y^H Y}]} - 2\\Tr{[\\mathbf{Y^H SA}]} + \\Tr{[\\mathbf{A^H S^H SA}]} \\\\\n",
    "\\frac{\\partial}{\\partial \\mathbf{A}} {||\\mathbf{Y-SA}||}_F^2 \\to 0\n",
    "$\n",
    "Let us find derivative with respect to $\\mathbf{A}$:\n",
    "$\n",
    "\\frac{\\partial}{\\partial \\mathbf{A}} \\Tr{[\\mathbf{Y^H Y}]} = \\mathbf{0}\\\\\n",
    "\\frac{\\partial}{\\partial \\mathbf{A}} \\Tr{[\\mathbf{Y^H SA}]} = \\mathbf{S^H Y}\\\\\n",
    "\\frac{\\partial}{\\partial \\mathbf{A}} \\Tr{[\\mathbf{A^H S^H SA}]} = 2\\mathbf{S^H SA}\\\\\n",
    "-2 \\mathbf{S^H Y} + 2\\mathbf{S^H SA} = \\mathbf{0} \\Rightarrow \\mathbf{S^H Y} = \\mathbf{S^H SA} \\Rightarrow\n",
    "\\mathbf{A} = \\mathbf{(S^H S)^{-1}S^H Y}\\\\\n",
    "\\mathbf{A} = \\mathbf{(S^H S)^{-1}S^H Y} = \\mathbf{S^{-1} (S^H)^{-1} S^H Y} = \\mathbf{S^{-1} Y} = \\frac{1}{N}\\mathbf{S^H Y}\n",
    "$"
   ]
  },
  {
   "cell_type": "markdown",
   "metadata": {},
   "source": [
    "$\\mathbf{F} = [e^{2\\pi i(jk)}, j \\in [0,N-1],k \\in [0,N-1]]$"
   ]
  },
  {
   "cell_type": "markdown",
   "metadata": {},
   "source": [
    "# Peak selection\n",
    "Let $\\tau$ be a peak selection threshold, $k$ - time sample index.\n",
    "\n",
    "$\\begin{equation*}\n",
    "\\mathbf{Y(k)} = \n",
    " \\begin{cases}\n",
    "   \\mathbf{X(k)}, \\forall \\mathbf{X(k)}: |\\mathbf{X(k)}| > \\tau \\\\\n",
    "   \\mathbf{0}, \\text{otherwise}\n",
    " \\end{cases}\n",
    "\\end{equation*}$"
   ]
  },
  {
   "cell_type": "markdown",
   "metadata": {},
   "source": [
    "## DFT matrix\n",
    "The discrete Fourier transform allows one to calculate the spectrum of periodical sampled function up to normalization constant. The DFT makes a correspondence between $N$ samples at time domain (samples are spaced at distance $\\Delta t$) $\\mathbf{x} = x_1, \\ldots, x_N$ and $N$ samples in frequency domain $\\mathbf{X} = X_1, \\ldots, X_n$ (samples are spaced at distance $1/\\left(N\\Delta t\\right)$.\n",
    "DFT is a linear transform. One can write the DFT in the matrix form\n",
    "$$\n",
    "\\mathbf{X} = \\mathbf{F}\\mathbf{x}, \\quad \\mathbf{F}_{nk} = \\frac{1}{\\sqrt{N}}\\exp{\\left(-2\\pi j\\frac{\\left(k - 1\\right)\\left(n - 1\\right)}{N}\\right)},\n",
    "$$\n",
    "where $\\quad k, n = 1, \\ldots, N$.\n",
    "As soon as the periodical sampled function has discrete periodical spectrum, the first half of frequency samples $\\mathbf{X}_n$, $n = 1, \\ldots, N / 2$ correspond to \\emph{positive} frequencies $f_n = \\frac{n - 1}{\\Delta t}$, the second half of frequency samples $\\mathbf{X}_n$, $n = N / 2 + 1, \\ldots, N$correspond to \\emph{negative} frequencies $f_n = \\frac{N - n - 1}{\\Delta t}$."
   ]
  },
  {
   "cell_type": "markdown",
   "metadata": {},
   "source": [
    "# UE power allocation\n",
    "\n",
    "Let OFDM system has $ N$ users and total power $P$.\n",
    "\n",
    "Let consider power allocation vector (allocated power for each user): $\\mathbf{P} \\in \\mathbb {R}^{N_{UE}}$, $ \\sum_{i = 1}^{N_{UE}} \\mathbf{P_{i}} = P $.\n",
    "\n",
    "Max allowed ratio $ \\frac{\\max[\\mathbf{P}]}{\\min[\\mathbf{P}]} = \\frac{P_{max}}{P_{min}} = k $.\n",
    "\n",
    "Let consider edge case when a single user has $P_{max}$ power and $N_{UE} - 1$ users have $P_{min}$ power.\n",
    "\n",
    "Sum power can be represented as: $$ P_{max} + (N - 1)  P_{max} = P $$\n",
    "\n",
    "Let consider the system of equations:\n",
    "$$\\begin{cases}\n",
    "P_{max} + (N - 1) P_{min} = P \\\\\n",
    "P_{max} = k P_{min}\n",
    "\\end{cases}$$\n",
    "\n",
    "We immediately get:\n",
    "$$ kP_{min} + (N - 1)P_{min} = P =>\n",
    "\\begin{cases}\n",
    "P_{min} = \\frac{P}{N + k - 1} \\\\\n",
    "P_{max} = kP_{min} \n",
    "\\end{cases}$$"
   ]
  }
 ],
 "metadata": {
  "kernelspec": {
   "display_name": "Python 3",
   "language": "python",
   "name": "python3"
  },
  "language_info": {
   "codemirror_mode": {
    "name": "ipython",
    "version": 3
   },
   "file_extension": ".py",
   "mimetype": "text/x-python",
   "name": "python",
   "nbconvert_exporter": "python",
   "pygments_lexer": "ipython3",
   "version": "3.8.5"
  }
 },
 "nbformat": 4,
 "nbformat_minor": 4
}
