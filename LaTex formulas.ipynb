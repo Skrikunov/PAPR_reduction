{
 "cells": [
  {
   "cell_type": "markdown",
   "metadata": {},
   "source": [
    "PPAR reduction task can be described by the equation: $$\\mathbf{Z} = \\mathbf{X - SA} \\text{, where}$$\n",
    "\n",
    "$\n",
    "\\DeclareMathOperator{\\Tr}{Tr}\n",
    "\\mathbf{Z} \\in \\mathbb{C}^{MxN_{FFT}} \\text{-signal after PAPR reduction}\\\\\n",
    "\\mathbf{X} \\in \\mathbb{C}^{MxN_{FFT}} \\text{-signal before PAPR reduction}\\\\\n",
    "\\mathbf{A} \\in \\mathbb{C}^{MxN_{SC}} \\text{-selected subcarriers amplitudes (frequency domain)} \\\\\n",
    "\\mathbf{S} \\in \\mathbb{C}^{N_{SC} \\times N_{FFT}} \\text{-DFT matrix of selected subcarriers}\\\\\n",
    "\\mathbf{Y} = peaks(\\mathbf{X}) \\in \\mathbb{C}^{MxN_{FFT}} \\text{-undesired signal peaks}\\\\\n",
    "\\text{It can be represented as MMSE minimization problem:}\\\\\n",
    "\\mathbf{A} = \\arg \\min{||\\mathbf{Y-SA}||}_F^2\\\\\n",
    "\\text{Solution:}\\\\\n",
    "{||\\mathbf{Y-SA}||}_F^2 = \n",
    "\\Tr{[(\\mathbf{Y-SA})^H(\\mathbf{Y-SA})]} = \n",
    "\\Tr{[(\\mathbf{Y^H-A^H S^H})(\\mathbf{Y-SA})]} = \n",
    "\\Tr{(\\mathbf{Y^H Y - Y^H SA - A^H S^H Y + A^H S^H SA})} = \\\\\n",
    "= \\Tr{[\\mathbf{Y^H Y}]} - \\Tr{[\\mathbf{Y^H SA}]} - \\Tr{[\\mathbf{A^H S^H Y}]} + \\Tr{[\\mathbf{A^H S^H SA}]} = \n",
    " \\Tr{[\\mathbf{Y^H Y}]} - 2\\Tr{[\\mathbf{Y^H SA}]} + \\Tr{[\\mathbf{A^H S^H SA}]} \\\\\n",
    "\\frac{\\partial}{\\partial \\mathbf{A}} {||\\mathbf{Y-SA}||}_F^2 \\to 0\n",
    "$\n",
    "Let us find derivative with respect to $\\mathbf{A}$:\n",
    "$\n",
    "\\frac{\\partial}{\\partial \\mathbf{A}} \\Tr{[\\mathbf{Y^H Y}]} = \\mathbf{0}\\\\\n",
    "\\frac{\\partial}{\\partial \\mathbf{A}} \\Tr{[\\mathbf{Y^H SA}]} = \\mathbf{S^H Y}\\\\\n",
    "\\frac{\\partial}{\\partial \\mathbf{A}} \\Tr{[\\mathbf{A^H S^H SA}]} = 2\\mathbf{S^H SA}\\\\\n",
    "-2 \\mathbf{S^H Y} + 2\\mathbf{S^H SA} = \\mathbf{0} \\Rightarrow \\mathbf{S^H Y} = \\mathbf{S^H SA} \\Rightarrow\n",
    "\\mathbf{A} = \\mathbf{(S^H S)^{-1}S^H Y}\\\\\n",
    "\\mathbf{A} = \\mathbf{(S^H S)^{-1}S^H Y} = \\mathbf{S^{-1} (S^H)^{-1} S^H Y} = \\mathbf{S^{-1} Y} = \\frac{1}{N}\\mathbf{S^H Y}\n",
    "$"
   ]
  },
  {
   "cell_type": "markdown",
   "metadata": {},
   "source": [
    "$\\mathbf{F} = [e^{2\\pi i(jk)}, j \\in [0,N-1],k \\in [0,N-1]]$"
   ]
  },
  {
   "cell_type": "markdown",
   "metadata": {},
   "source": [
    "$PAPR = \\frac{max(|x[k]|^2)}{E(|x[k]|)^2}$"
   ]
  },
  {
   "cell_type": "markdown",
   "metadata": {},
   "source": [
    "Let $\\tau$ be a peak selection threshold, $k$ - time sample index.\n",
    "\n",
    "$\\begin{equation*}\n",
    "\\mathbf{Y(k)} = \n",
    " \\begin{cases}\n",
    "   \\mathbf{X(k)}, \\forall \\mathbf{X(k)}: |\\mathbf{X(k)}| > \\tau \\\\\n",
    "   \\mathbf{0}, \\text{otherwise}\n",
    " \\end{cases}\n",
    "\\end{equation*}$"
   ]
  },
  {
   "cell_type": "code",
   "execution_count": null,
   "metadata": {},
   "outputs": [],
   "source": []
  }
 ],
 "metadata": {
  "kernelspec": {
   "display_name": "Python 3",
   "language": "python",
   "name": "python3"
  },
  "language_info": {
   "codemirror_mode": {
    "name": "ipython",
    "version": 3
   },
   "file_extension": ".py",
   "mimetype": "text/x-python",
   "name": "python",
   "nbconvert_exporter": "python",
   "pygments_lexer": "ipython3",
   "version": "3.8.5"
  }
 },
 "nbformat": 4,
 "nbformat_minor": 4
}
