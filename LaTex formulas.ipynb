{
 "cells": [
  {
   "cell_type": "markdown",
   "metadata": {},
   "source": [
    "PPAR reduction task can be described by the equation: $$Z = X - AS \\text{, where}$$\n",
    "\n",
    "$Z \\in \\mathbb{C}^{MxN_{FFT}} \\text{-after PAPR reduction}\\\\\n",
    "X \\in \\mathbb{C}^{MxN_{FFT}} \\text{-before PAPR reduction}\\\\\n",
    "A \\in \\mathbb{C}^{MxN_{SC}} \\text{-selected subcarriers amplitudes} \\\\\n",
    "S \\in \\mathbb{C}^{N_{SC}xN_{FFT}} \\text{-DFT matrix with selected subcarriers}\\\\\n",
    "Y = peaks(X) \\in \\mathbb{C}^{MxN_{FFT}} \\text{-undesired signal peaks}\\\\\n",
    "\\text{It can be represented as MMSE problem:}\\\\\n",
    "A = argmin{||Y-AS||}^2\\\\\n",
    "\\text{Solution:}\\\\\n",
    "(Y-AS)(Y-AS)^H \\to 0\\\\\n",
    "YY^H-YS^H A^H -ASY^H + ASS^H A^H \\to 0 \\\\\n",
    "\\frac{d}{dA} (YY^H-YS^H A^H -ASY^H + ASS^H A^H) = 0\\\\\n",
    "SY^H = SS^H A^H = 0\\\\\n",
    "YS^H = A SS^H\\\\\n",
    "A=YS^H (SS^H)^{-1} = YS^H (S^H)^{-1} S^{-1} = YS^{-1} = \\frac{1}{N_{FFT}} YS^H\\\\\n",
    "\\text{In case of inverse dimensions of the tignal matrix (N_{FFT}xM):}\\\\\n",
    "A=(S^HS)^{-1} S^H Y = S^{-1} (S^H)^{-1} S^H Y = S^{-1} Y = \\frac{1}{N_{FFT}} S^H Y$"
   ]
  },
  {
   "cell_type": "markdown",
   "metadata": {},
   "source": [
    "$PAPR = \\frac{max(|x[k]|^2)}{E(|x[k]|)^2}$"
   ]
  },
  {
   "cell_type": "markdown",
   "metadata": {},
   "source": [
    "$\\begin{equation*}\n",
    "Y(k) = \n",
    " \\begin{cases}\n",
    "   X(k), if |X(k)| > \\tau \\\\\n",
    "   0, \\text{otherwise}\n",
    " \\end{cases}\n",
    "\\end{equation*}\n",
    "\\tau - peak selection threshold\n",
    "k - time sample index$"
   ]
  },
  {
   "cell_type": "code",
   "execution_count": null,
   "metadata": {},
   "outputs": [],
   "source": []
  }
 ],
 "metadata": {
  "kernelspec": {
   "display_name": "Python 3",
   "language": "python",
   "name": "python3"
  },
  "language_info": {
   "codemirror_mode": {
    "name": "ipython",
    "version": 3
   },
   "file_extension": ".py",
   "mimetype": "text/x-python",
   "name": "python",
   "nbconvert_exporter": "python",
   "pygments_lexer": "ipython3",
   "version": "3.8.5"
  }
 },
 "nbformat": 4,
 "nbformat_minor": 4
}
